{
 "cells": [
  {
   "cell_type": "code",
   "execution_count": null,
   "metadata": {
    "collapsed": true
   },
   "outputs": [],
   "source": [
    "import math\n",
    "import os\n",
    "\n",
    "import numpy as np\n",
    "import pandas as pd\n",
    "from sklearn import metrics\n",
    "from sklearn.ensemble import RandomForestRegressor\n",
    "from sklearn.impute import SimpleImputer\n",
    "from sklearn.model_selection import GridSearchCV\n",
    "from sklearn.pipeline import Pipeline\n",
    "\n",
    "file_location = os.path.dirname(__file__)\n",
    "\n",
    "atributes = \"temperature_2m,relativehumidity_2m,dewpoint_2m,apparent_temperature,pressure_msl,\" \\\n",
    "            \"surface_pressure,precipitation,weathercode,cloudcover,cloudcover_low,cloudcover_mid,cloudcover_high,\" \\\n",
    "            \"windspeed_10m,winddirection_10m\"\n",
    "\n",
    "city_names = [\n",
    "    \"Maribor\",\n",
    "    \"Ljubljana\",\n",
    "    \"Kranj\",\n",
    "    \"Koper\",\n",
    "    \"Celje\",\n",
    "    \"Novo_Mesto\",\n",
    "    \"Ptuj\",\n",
    "    \"Murska_Sobota\"\n",
    "]"
   ]
  },
  {
   "cell_type": "code",
   "execution_count": null,
   "outputs": [],
   "source": [
    "def prepare_data(city, y_atribute):\n",
    "    train_csv_filename = os.path.join(file_location, \"../data/processed/city/final/\" + city + \"/train_data.csv\")\n",
    "    test_csv_filename = os.path.join(file_location, \"../data/processed/city/final/\" + city + \"/test_data.csv\")\n",
    "    df_train = pd.read_csv(train_csv_filename)\n",
    "    df_test = pd.read_csv(test_csv_filename)\n",
    "\n",
    "    df_train_x = df_train[atributes.split(\",\")]\n",
    "    df_train_x = df_train_x.drop(y_atribute, axis=1)\n",
    "\n",
    "    df_train_y = df_train[y_atribute]\n",
    "\n",
    "    df_test_x = df_test[atributes.split(\",\")]\n",
    "    df_test_x = df_test_x.drop(y_atribute, axis=1)\n",
    "\n",
    "    df_test_y = df_test[y_atribute]\n",
    "\n",
    "    return df_train_x, df_test_x, df_train_y, df_test_y"
   ],
   "metadata": {
    "collapsed": false
   }
  },
  {
   "cell_type": "code",
   "execution_count": null,
   "outputs": [],
   "source": [
    "def get_best_params(x_train, y_train):\n",
    "    pipe = Pipeline([\n",
    "        ('imputer', SimpleImputer()),\n",
    "        ('regressor', RandomForestRegressor())\n",
    "    ])\n",
    "\n",
    "    param_grid = {\n",
    "        'regressor__n_estimators': [10, 20, 50, 100, 200],\n",
    "        'regressor__max_features': ['sqrt', 'log2'],\n",
    "        'regressor__max_depth': [3, 5, 10, 20, 40],\n",
    "        'regressor__min_samples_split': [2, 5, 10, 20],\n",
    "        'regressor__min_samples_leaf': [1, 2, 4, 8, 16],\n",
    "    }\n",
    "\n",
    "    grid_search = GridSearchCV(pipe, param_grid=param_grid, cv=5)\n",
    "    grid_search.fit(x_train, y_train)\n",
    "\n",
    "    return grid_search.best_params_"
   ],
   "metadata": {
    "collapsed": false
   }
  },
  {
   "cell_type": "code",
   "execution_count": null,
   "outputs": [],
   "source": [
    "def train_model(city, y_atribute, x_train, x_test, y_train, y_test):\n",
    "    x_train = np.array(x_train)\n",
    "    x_test = np.array(x_test)\n",
    "    y_train = np.array(y_train)\n",
    "    y_test = np.array(y_test)\n",
    "\n",
    "    train_pipe = Pipeline([\n",
    "        ('imputer', SimpleImputer()),\n",
    "        ('regressor', RandomForestRegressor())\n",
    "    ])\n",
    "\n",
    "    print(\"Start training model for\", city, \"(\", y_atribute, \")\")\n",
    "\n",
    "    best_params = get_best_params(x_train, y_train)\n",
    "\n",
    "    train_pipe.set_params(**best_params)\n",
    "\n",
    "    train_pipe.fit(x_train, y_train)\n",
    "\n",
    "    predictions = train_pipe.predict(x_test)\n",
    "\n",
    "    mae = metrics.mean_absolute_error(y_test, predictions)\n",
    "    mse = metrics.mean_squared_error(y_test, predictions)\n",
    "    rmse = np.sqrt(metrics.mean_squared_error(y_test, predictions))\n",
    "\n",
    "    print('(', city, ')Mean Absolute Error (MAE):', mae)\n",
    "    print('(', city, ')Mean Squared Error (MSE):', mse)\n",
    "    print('(', city, ')Root Mean Squared Error (RMSE):', rmse)\n",
    "\n",
    "    mape = np.mean(np.abs((y_test - predictions) / np.abs(predictions)))\n",
    "    acc = -1\n",
    "\n",
    "    if math.isnan(mape) is False:\n",
    "        acc = round(100 * (1 - mape), 2)\n",
    "        print('(', city, ')Mean Absolute Percentage Error (MAPE):', round(mape * 100, 2))\n",
    "        print('(', city, ')Accuracy:', acc)"
   ],
   "metadata": {
    "collapsed": false
   }
  },
  {
   "cell_type": "code",
   "execution_count": null,
   "outputs": [],
   "source": [
    "for i in range(len(city_names)):\n",
    "    (x_train, x_test, y_train, y_test) = prepare_data(city_names[i], \"temperature_2m\")\n",
    "    train_model(city_names[i], \"temperature_2m\", x_train, x_test, y_train, y_test)\n",
    "\n",
    "    (x_train, x_test, y_train, y_test) = prepare_data(city_names[i], \"precipitation\")\n",
    "    train_model(city_names[i], \"precipitation\", x_train, x_test, y_train, y_test)"
   ],
   "metadata": {
    "collapsed": false
   }
  }
 ],
 "metadata": {
  "kernelspec": {
   "display_name": "Python 3",
   "language": "python",
   "name": "python3"
  },
  "language_info": {
   "codemirror_mode": {
    "name": "ipython",
    "version": 2
   },
   "file_extension": ".py",
   "mimetype": "text/x-python",
   "name": "python",
   "nbconvert_exporter": "python",
   "pygments_lexer": "ipython2",
   "version": "2.7.6"
  }
 },
 "nbformat": 4,
 "nbformat_minor": 0
}
